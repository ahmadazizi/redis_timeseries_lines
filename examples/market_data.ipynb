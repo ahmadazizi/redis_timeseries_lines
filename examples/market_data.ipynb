{
 "cells": [
  {
   "cell_type": "markdown",
   "metadata": {},
   "source": [
    "# RedisTimeseriesLines Example: Market Data(OHLCV)\n",
    "\n",
    "### Demonstrating a high-performance market price data downsampling mechanism using *redis* backend and `RedisTimeseriesLines`\n",
    "\n",
    "In this example, we are going to maintain the data of some financial markets. We have chosen the `cryptocurrency` and `irx` for our example. Each market contain several instruments that we refer to them as symbols and we collect OHLCV(`open`, `high`, `low`, `close`, `volume`) data for each symbol.\n",
    "\n",
    "The raw data is directly collected from the market with the resolution of seconds and we insert them in `raw` timeframe. Then we compress(downsample) the data to timeframes of `1m`, `1h` and `1d`. As the names `open`, `high`, `low`, `close`, `volume` implies, we use the `FIRST` aggregator for `open`, `MAX` for `high`, `MIN` for `low`, `LAST` for `close` and the `SUM` aggregator for `volume` to compress the data and build the appropriate timeframes of data.\n",
    "\n",
    "We also want to keep `1m` data for just one week, `1h` for one month and respectively `1d` data for a year.\n",
    "In this Example, we use the classifier 1(c1) to identify the market(here `cryptocurrency` or `irx`) and the classifier 2(c2) for the symbols."
   ]
  },
  {
   "cell_type": "code",
   "execution_count": 1,
   "metadata": {},
   "outputs": [],
   "source": [
    "import time, datetime, random\n",
    "from pytz import timezone\n",
    "\n",
    "from redis_timeseries_lines import RedisTimeseriesLines\n",
    "\n",
    "settings = {\n",
    "    'host': 'localhost',\n",
    "    'port': 6379,\n",
    "    'db': 13,\n",
    "    'password': None,\n",
    "}\n",
    "\n",
    "class MarketData(RedisTimeseriesLines):\n",
    "    _name = 'markets'\n",
    "    _lines = ['open', 'high', 'low', 'close', 'volume']\n",
    "    _timeframes = {\n",
    "        'raw': {'retention_secs': 60*60*24*4}, # retention 4 days\n",
    "        '1m': {'retention_secs': 60*60*24*7, 'bucket_size_secs': 60}, # retention 7 day; timeframe 60 secs\n",
    "        '1h': {'retention_secs': 60*60*24*30, 'bucket_size_secs': 60*60}, # retention 1 month; timeframe 3600 secs\n",
    "        '1d': {'retention_secs': 60*60*24*365, 'bucket_size_secs': 60*60*24}, # retention 1 year; timeframe 86400 secs\n",
    "    }\n",
    "\n",
    "    #compaction rules\n",
    "    def _create_rule(self, c1:str, c2:str, line:str, timeframe_name:str, timeframe_specs:str, source_key:str, dest_key:str):\n",
    "        if line == 'open':\n",
    "            aggregation_type = 'first'\n",
    "        elif line == 'close':\n",
    "            aggregation_type = 'last'\n",
    "        elif line == 'high':\n",
    "            aggregation_type = 'max'\n",
    "        elif line == 'low':\n",
    "            aggregation_type = 'min'\n",
    "        elif line == 'volume':\n",
    "            aggregation_type = 'sum'\n",
    "        else:\n",
    "            return\n",
    "        bucket_size_secs = timeframe_specs['bucket_size_secs']\n",
    "        self._set_rule(source_key, dest_key, aggregation_type, bucket_size_secs)\n",
    "    \n",
    "    @staticmethod\n",
    "    def print_data(data):\n",
    "        for ts, open, high, low, close, volume in data:\n",
    "            print(f\"{datetime.datetime.fromtimestamp(ts, tz=timezone('UTC')):%Y-%m-%d %H:%M:%S}, open: {open}, high: {high}, low: {low}, close: {close}, volume: {volume}\")"
   ]
  },
  {
   "cell_type": "code",
   "execution_count": 2,
   "metadata": {},
   "outputs": [],
   "source": [
    "md = MarketData(**settings)"
   ]
  },
  {
   "cell_type": "markdown",
   "metadata": {},
   "source": [
    "In this example, we don't create timeseries explicitly using the `create()` method. Instead, the series are created automatically while inserting data by turning on the `create_inplace` option."
   ]
  },
  {
   "cell_type": "code",
   "execution_count": 3,
   "metadata": {},
   "outputs": [
    {
     "name": "stdout",
     "output_type": "stream",
     "text": [
      "432000 records inserted for crypto:btc:raw\n",
      "432000 records inserted for crypto:eth:raw\n",
      "432000 records inserted for irx:usd:raw\n"
     ]
    }
   ],
   "source": [
    "crypto_btc = []\n",
    "crypto_eth = []\n",
    "irx_usd = []\n",
    "# generating random data from 2020-01-01 to 2020-03-01; raw(seconds) resolution\n",
    "for ts in range(1577836800, 1583020800, 60):\n",
    "    btc = (random.randint(20000, 21000), random.randint(10000000, 20000000))\n",
    "    eth = (random.randint(1500, 1600), random.randint(1000000, 2000000))\n",
    "    usd = (random.randint(30000, 35000), random.randint(1000, 2000))\n",
    "    crypto_btc.append([ts, btc[0], btc[0], btc[0], btc[0], btc[1]])\n",
    "    crypto_eth.append([ts, eth[0], eth[0], eth[0], eth[0], eth[1]])\n",
    "    irx_usd.append([ts, usd[0], usd[0], usd[0], usd[0], usd[1]])\n",
    "\n",
    "# adding data\n",
    "print(md.add(\n",
    "    data=crypto_btc,\n",
    "    c1='crypto',\n",
    "    c2='btc',\n",
    "    create_inplace=True,\n",
    ")[1], 'records inserted for crypto:btc:raw')\n",
    "\n",
    "print(md.add(\n",
    "    data=crypto_eth,\n",
    "    c1='crypto',\n",
    "    c2='eth',\n",
    "    create_inplace=True,\n",
    ")[1], 'records inserted for crypto:eth:raw')\n",
    "\n",
    "print(md.add(\n",
    "    data=irx_usd,\n",
    "    c1='irx',\n",
    "    c2='usd',\n",
    "    create_inplace=True,\n",
    ")[1], 'records inserted for irx:usd:raw')\n"
   ]
  },
  {
   "cell_type": "markdown",
   "metadata": {},
   "source": [
    "Taking a look at `btc` data in `raw` timeframe. As you can see, data older than retention period are deleted:"
   ]
  },
  {
   "cell_type": "code",
   "execution_count": null,
   "metadata": {},
   "outputs": [],
   "source": [
    "data = md.read(\n",
    "    c1='crypto',\n",
    "    c2='btc',\n",
    "    timeframe='raw',\n",
    ")\n",
    "md.print_data(data[1])"
   ]
  },
  {
   "cell_type": "raw",
   "metadata": {},
   "source": [
    "2020-02-25 23:59:00, open: 20572.0, high: 20572.0, low: 20572.0, close: 20572.0, volume: 11331537.0\n",
    "2020-02-26 00:00:00, open: 20017.0, high: 20017.0, low: 20017.0, close: 20017.0, volume: 12882923.0\n",
    "2020-02-26 00:01:00, open: 20923.0, high: 20923.0, low: 20923.0, close: 20923.0, volume: 14845320.0\n",
    "2020-02-26 00:02:00, open: 20715.0, high: 20715.0, low: 20715.0, close: 20715.0, volume: 18209311.0\n",
    "2020-02-26 00:03:00, open: 20130.0, high: 20130.0, low: 20130.0, close: 20130.0, volume: 18616553.0\n",
    "2020-02-26 00:04:00, open: 20360.0, high: 20360.0, low: 20360.0, close: 20360.0, volume: 18129590.0\n",
    "...\n",
    "2020-02-29 23:56:00, open: 20189.0, high: 20189.0, low: 20189.0, close: 20189.0, volume: 19507811.0\n",
    "2020-02-29 23:57:00, open: 20177.0, high: 20177.0, low: 20177.0, close: 20177.0, volume: 11542395.0\n",
    "2020-02-29 23:58:00, open: 20604.0, high: 20604.0, low: 20604.0, close: 20604.0, volume: 14597513.0\n",
    "2020-02-29 23:59:00, open: 20188.0, high: 20188.0, low: 20188.0, close: 20188.0, volume: 15277289.0"
   ]
  },
  {
   "cell_type": "markdown",
   "metadata": {},
   "source": [
    "Making sure data is properly downsampled for the `1h` timeframe of `btc`. Just looking at last 10 records:"
   ]
  },
  {
   "cell_type": "code",
   "execution_count": 5,
   "metadata": {},
   "outputs": [
    {
     "name": "stdout",
     "output_type": "stream",
     "text": [
      "2020-02-29 13:00:00, open: 20716.0, high: 20996.0, low: 20024.0, close: 20055.0, volume: 887865586.0\n",
      "2020-02-29 14:00:00, open: 20662.0, high: 20955.0, low: 20005.0, close: 20264.0, volume: 909054096.0\n",
      "2020-02-29 15:00:00, open: 20342.0, high: 20989.0, low: 20014.0, close: 20134.0, volume: 869658298.0\n",
      "2020-02-29 16:00:00, open: 20575.0, high: 20993.0, low: 20000.0, close: 20198.0, volume: 918337539.0\n",
      "2020-02-29 17:00:00, open: 20372.0, high: 20995.0, low: 20029.0, close: 20593.0, volume: 902469999.0\n",
      "2020-02-29 18:00:00, open: 20317.0, high: 20998.0, low: 20020.0, close: 20267.0, volume: 897428031.0\n",
      "2020-02-29 19:00:00, open: 20763.0, high: 20998.0, low: 20004.0, close: 20780.0, volume: 919447205.0\n",
      "2020-02-29 20:00:00, open: 20241.0, high: 20968.0, low: 20008.0, close: 20390.0, volume: 859000785.0\n",
      "2020-02-29 21:00:00, open: 20554.0, high: 20965.0, low: 20003.0, close: 20148.0, volume: 841459539.0\n",
      "2020-02-29 22:00:00, open: 20028.0, high: 21000.0, low: 20015.0, close: 20330.0, volume: 934689667.0\n"
     ]
    }
   ],
   "source": [
    "# sensor 1 last 10 data, timeframe 1h\n",
    "data = md.read_last_n_records(\n",
    "    c1='crypto',\n",
    "    c2='btc',\n",
    "    timeframe='1h',\n",
    "    minimum_timestamp=0,\n",
    "    n=10,\n",
    ")\n",
    "md.print_data(data[2])"
   ]
  },
  {
   "cell_type": "markdown",
   "metadata": {},
   "source": [
    "And finally the `1d` timeframe for `btc`:"
   ]
  },
  {
   "cell_type": "code",
   "execution_count": 6,
   "metadata": {},
   "outputs": [
    {
     "name": "stdout",
     "output_type": "stream",
     "text": [
      "2020-02-19 00:00:00, open: 20996.0, high: 21000.0, low: 20001.0, close: 20899.0, volume: 21713494892.0\n",
      "2020-02-20 00:00:00, open: 20407.0, high: 20999.0, low: 20001.0, close: 20572.0, volume: 21649732180.0\n",
      "2020-02-21 00:00:00, open: 20655.0, high: 20999.0, low: 20000.0, close: 20210.0, volume: 21586585777.0\n",
      "2020-02-22 00:00:00, open: 20839.0, high: 20999.0, low: 20000.0, close: 20470.0, volume: 21548996598.0\n",
      "2020-02-23 00:00:00, open: 20431.0, high: 21000.0, low: 20000.0, close: 21000.0, volume: 21717670231.0\n",
      "2020-02-24 00:00:00, open: 20843.0, high: 21000.0, low: 20000.0, close: 20375.0, volume: 21555332666.0\n",
      "2020-02-25 00:00:00, open: 20947.0, high: 20999.0, low: 20000.0, close: 20572.0, volume: 21358709641.0\n",
      "2020-02-26 00:00:00, open: 20017.0, high: 20999.0, low: 20000.0, close: 20620.0, volume: 21807551114.0\n",
      "2020-02-27 00:00:00, open: 20317.0, high: 21000.0, low: 20000.0, close: 20171.0, volume: 21531302232.0\n",
      "2020-02-28 00:00:00, open: 20206.0, high: 20999.0, low: 20000.0, close: 20506.0, volume: 21570989417.0\n"
     ]
    }
   ],
   "source": [
    "data = md.read_last_n_records(\n",
    "    c1='crypto',\n",
    "    c2='btc',\n",
    "    timeframe='1d',\n",
    "    minimum_timestamp=0,\n",
    "    n=10,\n",
    ")\n",
    "md.print_data(data[2])"
   ]
  },
  {
   "cell_type": "markdown",
   "metadata": {},
   "source": [
    "What about Ethereum?"
   ]
  },
  {
   "cell_type": "code",
   "execution_count": 7,
   "metadata": {},
   "outputs": [
    {
     "name": "stdout",
     "output_type": "stream",
     "text": [
      "2020-02-19 00:00:00, open: 1525.0, high: 1600.0, low: 1500.0, close: 1539.0, volume: 2170061446.0\n",
      "2020-02-20 00:00:00, open: 1558.0, high: 1600.0, low: 1500.0, close: 1529.0, volume: 2162563677.0\n",
      "2020-02-21 00:00:00, open: 1503.0, high: 1600.0, low: 1500.0, close: 1590.0, volume: 2166275502.0\n",
      "2020-02-22 00:00:00, open: 1530.0, high: 1600.0, low: 1500.0, close: 1552.0, volume: 2169260556.0\n",
      "2020-02-23 00:00:00, open: 1523.0, high: 1600.0, low: 1500.0, close: 1510.0, volume: 2171137650.0\n",
      "2020-02-24 00:00:00, open: 1588.0, high: 1600.0, low: 1500.0, close: 1526.0, volume: 2164820801.0\n",
      "2020-02-25 00:00:00, open: 1502.0, high: 1600.0, low: 1500.0, close: 1591.0, volume: 2173373542.0\n",
      "2020-02-26 00:00:00, open: 1508.0, high: 1600.0, low: 1500.0, close: 1560.0, volume: 2167953279.0\n",
      "2020-02-27 00:00:00, open: 1540.0, high: 1600.0, low: 1500.0, close: 1536.0, volume: 2169341657.0\n",
      "2020-02-28 00:00:00, open: 1600.0, high: 1600.0, low: 1500.0, close: 1520.0, volume: 2146486135.0\n"
     ]
    }
   ],
   "source": [
    "data = md.read_last_n_records(\n",
    "    c1='crypto',\n",
    "    c2='eth',\n",
    "    timeframe='1d',\n",
    "    minimum_timestamp=0,\n",
    "    n=10,\n",
    ")\n",
    "md.print_data(data[2])"
   ]
  },
  {
   "cell_type": "markdown",
   "metadata": {},
   "source": [
    "We also had a market called `irx`, whats going on with it?"
   ]
  },
  {
   "cell_type": "code",
   "execution_count": 8,
   "metadata": {},
   "outputs": [
    {
     "name": "stdout",
     "output_type": "stream",
     "text": [
      "2020-02-19 00:00:00, open: 32260.0, high: 34997.0, low: 30004.0, close: 31782.0, volume: 2148082.0\n",
      "2020-02-20 00:00:00, open: 34475.0, high: 34999.0, low: 30000.0, close: 32224.0, volume: 2152698.0\n",
      "2020-02-21 00:00:00, open: 31353.0, high: 34992.0, low: 30000.0, close: 30909.0, volume: 2184993.0\n",
      "2020-02-22 00:00:00, open: 30458.0, high: 35000.0, low: 30001.0, close: 34704.0, volume: 2166722.0\n",
      "2020-02-23 00:00:00, open: 31973.0, high: 34993.0, low: 30013.0, close: 31240.0, volume: 2162627.0\n",
      "2020-02-24 00:00:00, open: 32847.0, high: 34992.0, low: 30003.0, close: 33333.0, volume: 2144194.0\n",
      "2020-02-25 00:00:00, open: 31959.0, high: 34995.0, low: 30001.0, close: 30239.0, volume: 2165750.0\n",
      "2020-02-26 00:00:00, open: 34780.0, high: 35000.0, low: 30002.0, close: 34021.0, volume: 2146596.0\n",
      "2020-02-27 00:00:00, open: 33814.0, high: 35000.0, low: 30001.0, close: 33628.0, volume: 2156134.0\n",
      "2020-02-28 00:00:00, open: 31246.0, high: 34999.0, low: 30004.0, close: 30958.0, volume: 2148934.0\n"
     ]
    }
   ],
   "source": [
    "data = md.read_last_n_records(\n",
    "    c1='irx',\n",
    "    c2='usd',\n",
    "    timeframe='1d',\n",
    "    minimum_timestamp=0,\n",
    "    n=10,\n",
    ")\n",
    "md.print_data(data[2])"
   ]
  },
  {
   "cell_type": "markdown",
   "metadata": {},
   "source": [
    "## Other Commands\n",
    "In the background, several keys are created in the redis db. To inspect the list of keys, run the following command:"
   ]
  },
  {
   "cell_type": "code",
   "execution_count": 9,
   "metadata": {},
   "outputs": [
    {
     "data": {
      "text/plain": [
       "['markets:crypto:btc:1d:close',\n",
       " 'markets:crypto:btc:1d:high',\n",
       " 'markets:crypto:btc:1d:low',\n",
       " 'markets:crypto:btc:1d:open',\n",
       " 'markets:crypto:btc:1d:volume',\n",
       " 'markets:crypto:btc:1h:close',\n",
       " 'markets:crypto:btc:1h:high',\n",
       " 'markets:crypto:btc:1h:low',\n",
       " 'markets:crypto:btc:1h:open',\n",
       " 'markets:crypto:btc:1h:volume',\n",
       " 'markets:crypto:btc:1m:close',\n",
       " 'markets:crypto:btc:1m:high',\n",
       " 'markets:crypto:btc:1m:low',\n",
       " 'markets:crypto:btc:1m:open',\n",
       " 'markets:crypto:btc:1m:volume',\n",
       " 'markets:crypto:btc:raw:close',\n",
       " 'markets:crypto:btc:raw:high',\n",
       " 'markets:crypto:btc:raw:low',\n",
       " 'markets:crypto:btc:raw:open',\n",
       " 'markets:crypto:btc:raw:volume',\n",
       " 'markets:crypto:eth:1d:close',\n",
       " 'markets:crypto:eth:1d:high',\n",
       " 'markets:crypto:eth:1d:low',\n",
       " 'markets:crypto:eth:1d:open',\n",
       " 'markets:crypto:eth:1d:volume',\n",
       " 'markets:crypto:eth:1h:close',\n",
       " 'markets:crypto:eth:1h:high',\n",
       " 'markets:crypto:eth:1h:low',\n",
       " 'markets:crypto:eth:1h:open',\n",
       " 'markets:crypto:eth:1h:volume',\n",
       " 'markets:crypto:eth:1m:close',\n",
       " 'markets:crypto:eth:1m:high',\n",
       " 'markets:crypto:eth:1m:low',\n",
       " 'markets:crypto:eth:1m:open',\n",
       " 'markets:crypto:eth:1m:volume',\n",
       " 'markets:crypto:eth:raw:close',\n",
       " 'markets:crypto:eth:raw:high',\n",
       " 'markets:crypto:eth:raw:low',\n",
       " 'markets:crypto:eth:raw:open',\n",
       " 'markets:crypto:eth:raw:volume',\n",
       " 'markets:irx:usd:1d:close',\n",
       " 'markets:irx:usd:1d:high',\n",
       " 'markets:irx:usd:1d:low',\n",
       " 'markets:irx:usd:1d:open',\n",
       " 'markets:irx:usd:1d:volume',\n",
       " 'markets:irx:usd:1h:close',\n",
       " 'markets:irx:usd:1h:high',\n",
       " 'markets:irx:usd:1h:low',\n",
       " 'markets:irx:usd:1h:open',\n",
       " 'markets:irx:usd:1h:volume',\n",
       " 'markets:irx:usd:1m:close',\n",
       " 'markets:irx:usd:1m:high',\n",
       " 'markets:irx:usd:1m:low',\n",
       " 'markets:irx:usd:1m:open',\n",
       " 'markets:irx:usd:1m:volume',\n",
       " 'markets:irx:usd:raw:close',\n",
       " 'markets:irx:usd:raw:high',\n",
       " 'markets:irx:usd:raw:low',\n",
       " 'markets:irx:usd:raw:open',\n",
       " 'markets:irx:usd:raw:volume']"
      ]
     },
     "execution_count": 9,
     "metadata": {},
     "output_type": "execute_result"
    }
   ],
   "source": [
    "md.query_index(return_key_names=True)[1]"
   ]
  },
  {
   "cell_type": "markdown",
   "metadata": {},
   "source": [
    "You can inspect the info of each key by running the `stats` command as shown in the next cell.\n",
    "\n",
    "> Note that each key have lablels properly filled with respective data(`c1`, `c2`, `...`), so you can take advantage of *redis multi-timeseries commands* like [TS.MRANGE](https://redis.io/commands/ts.mrange/)\n"
   ]
  },
  {
   "cell_type": "code",
   "execution_count": 10,
   "metadata": {},
   "outputs": [
    {
     "data": {
      "text/plain": [
       "{'rules': [[b'markets:crypto:btc:1m:close', 60000, b'LAST'],\n",
       "  [b'markets:crypto:btc:1h:close', 3600000, b'LAST'],\n",
       "  [b'markets:crypto:btc:1d:close', 86400000, b'LAST']],\n",
       " 'source_key': None,\n",
       " 'chunk_count': 4,\n",
       " 'memory_usage': 17013,\n",
       " 'total_samples': 5761,\n",
       " 'labels': {'tl': 'markets',\n",
       "  'c1': 'crypto',\n",
       "  'c2': 'btc',\n",
       "  'line': 'close',\n",
       "  'timeframe': 'raw'},\n",
       " 'retention_msecs': 345600000,\n",
       " 'lastTimeStamp': 1583020740000,\n",
       " 'first_time_stamp': 1582675140000,\n",
       " 'chunk_size': 4096,\n",
       " 'duplicate_policy': 'last'}"
      ]
     },
     "execution_count": 10,
     "metadata": {},
     "output_type": "execute_result"
    }
   ],
   "source": [
    "md.stats('crypto', 'btc', 'raw', 'close').__dict__"
   ]
  }
 ],
 "metadata": {
  "kernelspec": {
   "display_name": "Python 3.8.10 ('.venv': venv)",
   "language": "python",
   "name": "python3"
  },
  "language_info": {
   "codemirror_mode": {
    "name": "ipython",
    "version": 3
   },
   "file_extension": ".py",
   "mimetype": "text/x-python",
   "name": "python",
   "nbconvert_exporter": "python",
   "pygments_lexer": "ipython3",
   "version": "3.8.10"
  },
  "orig_nbformat": 4,
  "vscode": {
   "interpreter": {
    "hash": "a9a35b091649adc0b60aba6f844a71a4dee49059584755cde36dee92cb158709"
   }
  }
 },
 "nbformat": 4,
 "nbformat_minor": 2
}
